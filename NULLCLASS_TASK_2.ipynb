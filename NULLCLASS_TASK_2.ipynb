{
  "nbformat": 4,
  "nbformat_minor": 0,
  "metadata": {
    "colab": {
      "provenance": [],
      "authorship_tag": "ABX9TyNjp1DdIlIZXMZOsdDFEIxu",
      "include_colab_link": true
    },
    "kernelspec": {
      "name": "python3",
      "display_name": "Python 3"
    },
    "language_info": {
      "name": "python"
    }
  },
  "cells": [
    {
      "cell_type": "markdown",
      "metadata": {
        "id": "view-in-github",
        "colab_type": "text"
      },
      "source": [
        "<a href=\"https://colab.research.google.com/github/Caeruleaphile08/NULLCLASS-TASK-2/blob/main/NULLCLASS_TASK_2.ipynb\" target=\"_parent\"><img src=\"https://colab.research.google.com/assets/colab-badge.svg\" alt=\"Open In Colab\"/></a>"
      ]
    },
    {
      "cell_type": "code",
      "execution_count": 4,
      "metadata": {
        "colab": {
          "base_uri": "https://localhost:8080/"
        },
        "id": "RSVsG0NUpRMB",
        "outputId": "1d2cd1f5-4ece-46bb-be1c-294ad6987564"
      },
      "outputs": [
        {
          "output_type": "stream",
          "name": "stdout",
          "text": [
            "Mounted at /content/drive\n"
          ]
        }
      ],
      "source": [
        "from google.colab import drive\n",
        "drive.mount('/content/drive')"
      ]
    },
    {
      "cell_type": "code",
      "source": [
        "import pandas as pd\n",
        "\n",
        "class WordChecker:\n",
        "    def __init__(self, data):\n",
        "        self.data = data\n",
        "        self.wrong_words = []\n",
        "\n",
        "    def check_word(self, word):\n",
        "        if word not in self.data:\n",
        "            self.wrong_words.append(word)\n",
        "            return False\n",
        "        return True\n",
        "\n",
        "    def get_suggestions(self, word):\n",
        "        suggestions = []\n",
        "        # Here we filter suggestions based on the initial letters of the word\n",
        "        for available_word in self.data:\n",
        "            if available_word.startswith(word):\n",
        "                suggestions.append(available_word)\n",
        "        return suggestions\n",
        "\n",
        "    def handle_error(self, word):\n",
        "        if len(self.wrong_words) >= 2:\n",
        "            error_message = \"You have entered the following wrong words so far: {}\\n\".format(', '.join(self.wrong_words))\n",
        "            error_message += \"Suggestions for the most recent wrong word '{}': {}\\n\".format(\n",
        "                self.wrong_words[-1], self.get_suggestions(self.wrong_words[-1]))\n",
        "            return error_message\n",
        "        else:\n",
        "            suggestions = self.get_suggestions(word[:len(word)])  # Consider the entire incorrect word for suggestions\n",
        "            if suggestions:\n",
        "                return \"Word '{}' is not available. Suggestions: {}\\n\".format(word, suggestions)\n",
        "            else:\n",
        "                return \"Word '{}' is not available.\\n\".format(word)\n",
        "\n",
        "\n",
        "# Load the data from CSV file into a list\n",
        "data = pd.read_csv('/content/drive/MyDrive/unigram_freq.csv')['word'].dropna().tolist()\n",
        "\n",
        "# Initialize the WordChecker class with the loaded data\n",
        "word_checker = WordChecker(data)\n",
        "\n",
        "# Initialize list to store wrong words\n",
        "wrong_words = []\n",
        "\n",
        "# Counter to keep track of consecutive wrong entries\n",
        "consecutive_wrong_entries = 0\n",
        "\n",
        "# Run the loop until user decides to stop\n",
        "while True:\n",
        "    # Get input from the user\n",
        "    user_input = input(\"Enter a word to check (type 'stop' to end): \")\n",
        "\n",
        "    # Check if the user wants to stop\n",
        "    if user_input.lower() == 'stop':\n",
        "        break\n",
        "\n",
        "    # Check the word\n",
        "    if not word_checker.check_word(user_input):\n",
        "        wrong_words.append(user_input)  # Add wrong word to the list\n",
        "        consecutive_wrong_entries += 1\n",
        "\n",
        "        # Print list of wrong words and suggestions after two consecutive wrong entries\n",
        "        if consecutive_wrong_entries == 2:\n",
        "            print(word_checker.handle_error(user_input))\n",
        "            consecutive_wrong_entries = 0  # Reset counter\n",
        "        else:\n",
        "            # Print error message with suggestions for single wrong entry\n",
        "            print(word_checker.handle_error(user_input))\n",
        "    else:\n",
        "        consecutive_wrong_entries = 0  # Reset counter if the entry is correct\n"
      ],
      "metadata": {
        "colab": {
          "base_uri": "https://localhost:8080/"
        },
        "id": "ZTw8CCFSqsqW",
        "outputId": "f3e9e271-69eb-4f65-a506-b345fb8eff31"
      },
      "execution_count": 6,
      "outputs": [
        {
          "name": "stdout",
          "output_type": "stream",
          "text": [
            "Enter a word to check (type 'stop' to end): sdfghj\n",
            "Word 'sdfghj' is not available.\n",
            "\n",
            "Enter a word to check (type 'stop' to end): fghjk\n",
            "You have entered the following wrong words so far: sdfghj, fghjk\n",
            "Suggestions for the most recent wrong word 'fghjk': []\n",
            "\n",
            "Enter a word to check (type 'stop' to end): sdfghjiopbnm,\n",
            "You have entered the following wrong words so far: sdfghj, fghjk, sdfghjiopbnm,\n",
            "Suggestions for the most recent wrong word 'sdfghjiopbnm,': []\n",
            "\n",
            "Enter a word to check (type 'stop' to end): cat\n",
            "Enter a word to check (type 'stop' to end): apple\n",
            "Enter a word to check (type 'stop' to end): house\n",
            "Enter a word to check (type 'stop' to end): waffle\n",
            "Enter a word to check (type 'stop' to end): stop\n"
          ]
        }
      ]
    }
  ]
}